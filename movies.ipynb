{
 "cells": [
  {
   "cell_type": "code",
   "execution_count": 1,
   "id": "59c00220",
   "metadata": {},
   "outputs": [],
   "source": [
    "import requests"
   ]
  },
  {
   "cell_type": "code",
   "execution_count": 2,
   "id": "2ab3e139",
   "metadata": {},
   "outputs": [],
   "source": [
    "from bs4 import BeautifulSoup\n"
   ]
  },
  {
   "cell_type": "code",
   "execution_count": 3,
   "id": "babdad53",
   "metadata": {},
   "outputs": [],
   "source": [
    "import pandas as pd"
   ]
  },
  {
   "cell_type": "code",
   "execution_count": 4,
   "id": "6ed46399",
   "metadata": {},
   "outputs": [],
   "source": [
    "header = {'User-Agent': 'Mozilla/5.0 (Windows NT 6.3; Win64; x64) AppleWebKit/537.36 (KHTML, like Gecko) Chrome/99.0.4844.51 Safari/537.36'}"
   ]
  },
  {
   "cell_type": "code",
   "execution_count": 5,
   "id": "82ef2570",
   "metadata": {},
   "outputs": [],
   "source": [
    "base_url = \"https://www.themoviedb.org\""
   ]
  },
  {
   "cell_type": "code",
   "execution_count": 6,
   "id": "46fa591c",
   "metadata": {},
   "outputs": [],
   "source": [
    "movie_data = requests.get(\"https://www.themoviedb.org/movie\" , headers= header).text"
   ]
  },
  {
   "cell_type": "code",
   "execution_count": 7,
   "id": "92f730f8",
   "metadata": {},
   "outputs": [],
   "source": [
    "movie = BeautifulSoup(movie_data , 'lxml')"
   ]
  },
  {
   "cell_type": "code",
   "execution_count": 8,
   "id": "0f5c4ac2",
   "metadata": {},
   "outputs": [],
   "source": [
    "card = movie.find('div', \"card style_1\")"
   ]
  },
  {
   "cell_type": "code",
   "execution_count": 9,
   "id": "900558dc",
   "metadata": {},
   "outputs": [],
   "source": [
    "movie_h2 = card.find('h2')"
   ]
  },
  {
   "cell_type": "code",
   "execution_count": 10,
   "id": "e1ab541f",
   "metadata": {},
   "outputs": [],
   "source": [
    "movie_link = base_url + movie_h2.find('a')[\"href\"]"
   ]
  },
  {
   "cell_type": "code",
   "execution_count": 11,
   "id": "9c44e563",
   "metadata": {},
   "outputs": [],
   "source": [
    "movie_link = base_url + movie_h2.find('a')[\"href\"]"
   ]
  },
  {
   "cell_type": "code",
   "execution_count": 17,
   "id": "572456e6",
   "metadata": {},
   "outputs": [
    {
     "ename": "NameError",
     "evalue": "name 'movie_url' is not defined",
     "output_type": "error",
     "traceback": [
      "\u001b[1;31m---------------------------------------------------------------------------\u001b[0m",
      "\u001b[1;31mNameError\u001b[0m                                 Traceback (most recent call last)",
      "Cell \u001b[1;32mIn[17], line 1\u001b[0m\n\u001b[1;32m----> 1\u001b[0m \u001b[38;5;28mprint\u001b[39m(movie_url)\n",
      "\u001b[1;31mNameError\u001b[0m: name 'movie_url' is not defined"
     ]
    }
   ],
   "source": [
    "print(movie_url)"
   ]
  },
  {
   "cell_type": "code",
   "execution_count": 13,
   "id": "b877a951",
   "metadata": {},
   "outputs": [
    {
     "ename": "NameError",
     "evalue": "name 'movie_url' is not defined",
     "output_type": "error",
     "traceback": [
      "\u001b[1;31m---------------------------------------------------------------------------\u001b[0m",
      "\u001b[1;31mNameError\u001b[0m                                 Traceback (most recent call last)",
      "Cell \u001b[1;32mIn[13], line 1\u001b[0m\n\u001b[1;32m----> 1\u001b[0m movie_page_1 \u001b[38;5;241m=\u001b[39m requests\u001b[38;5;241m.\u001b[39mget(movie_url , headers\u001b[38;5;241m=\u001b[39m header)\u001b[38;5;241m.\u001b[39mtext\n",
      "\u001b[1;31mNameError\u001b[0m: name 'movie_url' is not defined"
     ]
    }
   ],
   "source": [
    "movie_page_1 = requests.get(movie_url , headers= header).text"
   ]
  },
  {
   "cell_type": "code",
   "execution_count": 14,
   "id": "4ac2ed9c",
   "metadata": {},
   "outputs": [],
   "source": [
    "movie_page_soup = BeautifulSoup(movie_page_1 , 'lxml')"
   ]
  },
  {
   "cell_type": "code",
   "execution_count": 15,
   "id": "91ae63ef",
   "metadata": {},
   "outputs": [],
   "source": [
    "movie_info = movie_page_soup.find('div' , \"single_column\")"
   ]
  },
  {
   "cell_type": "code",
   "execution_count": 16,
   "id": "d2856161",
   "metadata": {},
   "outputs": [],
   "source": [
    "movie_content = movie_info.find('div' , 'title ott_false')"
   ]
  },
  {
   "cell_type": "code",
   "execution_count": 17,
   "id": "6a112861",
   "metadata": {},
   "outputs": [],
   "source": [
    "movie_name = movie_content.find('h2').a.text"
   ]
  },
  {
   "cell_type": "code",
   "execution_count": 18,
   "id": "6702a1ea",
   "metadata": {},
   "outputs": [],
   "source": [
    "movie_rating = movie_info.find('div' , 'user_score_chart')[\"data-percent\"]"
   ]
  },
  {
   "cell_type": "code",
   "execution_count": 19,
   "id": "e81b8923",
   "metadata": {},
   "outputs": [],
   "source": [
    "movie_genres_base = movie_content.find(\"span\" , \"genres\")"
   ]
  },
  {
   "cell_type": "code",
   "execution_count": 20,
   "id": "0b29623c",
   "metadata": {},
   "outputs": [],
   "source": [
    "movie_genres = []\n",
    "for movie_genres_info in movie_genres_base.find_all('a'):\n",
    "       movie_genres.append(movie_genres_info.text)"
   ]
  },
  {
   "cell_type": "code",
   "execution_count": 21,
   "id": "4eec63f2",
   "metadata": {},
   "outputs": [],
   "source": [
    "movie_release_date = movie_content.find('span' , 'release').text.strip()\n",
    "try:\n",
    "    runtime = movie_content.find('span' , 'runtime').text.strip()\n",
    "except AttributeError:\n",
    "    runtime = \"None\""
   ]
  },
  {
   "cell_type": "code",
   "execution_count": 22,
   "id": "36b5ba7d",
   "metadata": {},
   "outputs": [],
   "source": [
    "def director(movie_info_1):\n",
    "    try:\n",
    "        person = movie_info_1.find('ol', class_='people no_image')\n",
    "        profile = person.find_all('li')\n",
    "        for items in profile:\n",
    "            character = items.find('p', class_='character').text\n",
    "            if \"Director\" in character:\n",
    "                return items.p.a.text\n",
    "            else:\n",
    "                return items.p.a.text+\", \"\n",
    "            return 'none'\n",
    "    except AttributeError:\n",
    "        return 'None'"
   ]
  },
  {
   "cell_type": "code",
   "execution_count": 23,
   "id": "944eea8c",
   "metadata": {},
   "outputs": [],
   "source": [
    "def genres(movie_info_2):\n",
    "    genres = movie_info_2.find('span', class_='genres')\n",
    "    movie_genres_1 = genres.find_all('a')\n",
    "    movie_genres_2 = \"\"\n",
    "    count = 0\n",
    "    for items in movie_genres_1:\n",
    "        count = count + 1\n",
    "        if count == len(movie_genres_1):\n",
    "            movie_genres_2 = movie_genres_2 + items.text\n",
    "        else:\n",
    "            movie_genres_2 = movie_genres_2 + items.text + \", \"\n",
    "    return movie_genres_2"
   ]
  },
  {
   "cell_type": "code",
   "execution_count": 24,
   "id": "7db39183",
   "metadata": {},
   "outputs": [],
   "source": [
    "def runtime(movie_time):\n",
    "    try:\n",
    "        movie_runtime = movie_time.find('span', class_='runtime').text\n",
    "        return movie_runtime.strip()\n",
    "    except AttributeError:\n",
    "        return 'None'"
   ]
  },
  {
   "cell_type": "code",
   "execution_count": null,
   "id": "59fba08e",
   "metadata": {},
   "outputs": [],
   "source": [
    "movies_record_list = []\n",
    "for page in range(1, 16):\n",
    "    base_url = 'https://www.themoviedb.org'\n",
    "    header = {'User-Agent': 'Mozilla/5.0 (Windows NT 6.3; Win64; x64) AppleWebKit/537.36 (KHTML, like Gecko) Chrome/99.0.4844.51 Safari/537.36'}\n",
    "    main_page = requests.get(base_url+f'/movie?page={page}', headers=header).text\n",
    "\n",
    "    main_page_soup = BeautifulSoup(main_page, 'lxml')\n",
    "\n",
    "    all_data_list = main_page_soup.find_all('div', class_='card style_1')\n",
    "\n",
    "    for all_data in all_data_list:\n",
    "        movie_h2_tag = all_data.find('h2')\n",
    "        movie_link_page = base_url + movie_h2_tag.find('a')['href']\n",
    "        movie_all_data = requests.get(movie_link_page, headers=header).text\n",
    "        movie_info_soup = BeautifulSoup(movie_all_data, 'lxml')\n",
    "        details = movie_info_soup.find('div', class_='header large border first')\n",
    "        movie_title = details.find('div', class_='title ott_false')\n",
    "        movie_name = details.find('h2').a.text\n",
    "        movie_ratings = details.find('div', class_='user_score_chart')['data-percent']\n",
    "\n",
    "        movies_genres = genres(details)\n",
    "        movies_release_date = details.find('span', class_='release').text.strip()\n",
    "\n",
    "        movies_runtime = runtime(details)\n",
    "        movies_director = director(details)\n",
    "        Movie_Dictionary = {\n",
    "            'Name': movie_name,\n",
    "            'Rating': movie_ratings,\n",
    "            'Genre': movies_genres,\n",
    "            'Release date': movies_release_date[:-4],\n",
    "            'Runtime': movies_runtime,\n",
    "            'Director': movies_director,\n",
    "            'URL': movie_link_page\n",
    "        }\n",
    "        movies_record_list.append(Movie_Dictionary)\n"
   ]
  },
  {
   "cell_type": "code",
   "execution_count": null,
   "id": "42cfe27b",
   "metadata": {},
   "outputs": [],
   "source": [
    "print(movies_record_list)"
   ]
  },
  {
   "cell_type": "code",
   "execution_count": null,
   "id": "c8e0a088",
   "metadata": {},
   "outputs": [],
   "source": [
    "df=pd.DataFrame(movies_record_list)"
   ]
  },
  {
   "cell_type": "code",
   "execution_count": 27,
   "id": "43575423",
   "metadata": {},
   "outputs": [
    {
     "data": {
      "text/html": [
       "<div>\n",
       "<style scoped>\n",
       "    .dataframe tbody tr th:only-of-type {\n",
       "        vertical-align: middle;\n",
       "    }\n",
       "\n",
       "    .dataframe tbody tr th {\n",
       "        vertical-align: top;\n",
       "    }\n",
       "\n",
       "    .dataframe thead th {\n",
       "        text-align: right;\n",
       "    }\n",
       "</style>\n",
       "<table border=\"1\" class=\"dataframe\">\n",
       "  <thead>\n",
       "    <tr style=\"text-align: right;\">\n",
       "      <th></th>\n",
       "      <th>Name</th>\n",
       "      <th>Rating</th>\n",
       "      <th>Genre</th>\n",
       "      <th>Release date</th>\n",
       "      <th>Runtime</th>\n",
       "      <th>Director</th>\n",
       "      <th>URL</th>\n",
       "    </tr>\n",
       "  </thead>\n",
       "  <tbody>\n",
       "    <tr>\n",
       "      <th>0</th>\n",
       "      <td>Thor: Love and Thunder</td>\n",
       "      <td>68.0</td>\n",
       "      <td>Action, Adventure, Fantasy</td>\n",
       "      <td>07/08/2022</td>\n",
       "      <td>1h 59m</td>\n",
       "      <td>Taika Waititi</td>\n",
       "      <td>https://www.themoviedb.org/movie/616037</td>\n",
       "    </tr>\n",
       "    <tr>\n",
       "      <th>1</th>\n",
       "      <td>Minions: The Rise of Gru</td>\n",
       "      <td>78.0</td>\n",
       "      <td>Family, Animation, Adventure, Comedy, Fantasy</td>\n",
       "      <td>07/01/2022</td>\n",
       "      <td>1h 27m</td>\n",
       "      <td>Matt Fogel,</td>\n",
       "      <td>https://www.themoviedb.org/movie/438148</td>\n",
       "    </tr>\n",
       "    <tr>\n",
       "      <th>2</th>\n",
       "      <td>Jurassic World Dominion</td>\n",
       "      <td>71.0</td>\n",
       "      <td>Adventure, Action, Science Fiction</td>\n",
       "      <td>06/10/2022</td>\n",
       "      <td>2h 27m</td>\n",
       "      <td>Colin Trevorrow</td>\n",
       "      <td>https://www.themoviedb.org/movie/507086</td>\n",
       "    </tr>\n",
       "    <tr>\n",
       "      <th>3</th>\n",
       "      <td>Top Gun: Maverick</td>\n",
       "      <td>83.0</td>\n",
       "      <td>Action, Drama</td>\n",
       "      <td>05/27/2022</td>\n",
       "      <td>2h 11m</td>\n",
       "      <td>Jack Epps Jr.,</td>\n",
       "      <td>https://www.themoviedb.org/movie/361743</td>\n",
       "    </tr>\n",
       "    <tr>\n",
       "      <th>4</th>\n",
       "      <td>The Black Phone</td>\n",
       "      <td>80.0</td>\n",
       "      <td>Horror, Thriller</td>\n",
       "      <td>06/24/2022</td>\n",
       "      <td>1h 43m</td>\n",
       "      <td>Scott Derrickson</td>\n",
       "      <td>https://www.themoviedb.org/movie/756999</td>\n",
       "    </tr>\n",
       "    <tr>\n",
       "      <th>...</th>\n",
       "      <td>...</td>\n",
       "      <td>...</td>\n",
       "      <td>...</td>\n",
       "      <td>...</td>\n",
       "      <td>...</td>\n",
       "      <td>...</td>\n",
       "      <td>...</td>\n",
       "    </tr>\n",
       "    <tr>\n",
       "      <th>295</th>\n",
       "      <td>The Wolf of Wall Street</td>\n",
       "      <td>80.0</td>\n",
       "      <td>Crime, Drama, Comedy</td>\n",
       "      <td>12/25/2013</td>\n",
       "      <td>3h</td>\n",
       "      <td>Martin Scorsese</td>\n",
       "      <td>https://www.themoviedb.org/movie/106646</td>\n",
       "    </tr>\n",
       "    <tr>\n",
       "      <th>296</th>\n",
       "      <td>Tom &amp; Jerry</td>\n",
       "      <td>70.0</td>\n",
       "      <td>Comedy, Family, Animation</td>\n",
       "      <td>02/26/2021</td>\n",
       "      <td>1h 41m</td>\n",
       "      <td>Joseph Barbera,</td>\n",
       "      <td>https://www.themoviedb.org/movie/587807</td>\n",
       "    </tr>\n",
       "    <tr>\n",
       "      <th>297</th>\n",
       "      <td>The Conjuring</td>\n",
       "      <td>75.0</td>\n",
       "      <td>Horror, Thriller</td>\n",
       "      <td>08/02/2013</td>\n",
       "      <td>1h 52m</td>\n",
       "      <td>James Wan</td>\n",
       "      <td>https://www.themoviedb.org/movie/138843</td>\n",
       "    </tr>\n",
       "    <tr>\n",
       "      <th>298</th>\n",
       "      <td>Undisputed III: Redemption</td>\n",
       "      <td>76.0</td>\n",
       "      <td>Action, Thriller</td>\n",
       "      <td>05/22/2010</td>\n",
       "      <td>1h 36m</td>\n",
       "      <td>Isaac Florentine</td>\n",
       "      <td>https://www.themoviedb.org/movie/38234</td>\n",
       "    </tr>\n",
       "    <tr>\n",
       "      <th>299</th>\n",
       "      <td>Desperate Riders</td>\n",
       "      <td>60.0</td>\n",
       "      <td>Western, Action</td>\n",
       "      <td>02/25/2022</td>\n",
       "      <td>1h 30m</td>\n",
       "      <td>Michael Feifer</td>\n",
       "      <td>https://www.themoviedb.org/movie/928999</td>\n",
       "    </tr>\n",
       "  </tbody>\n",
       "</table>\n",
       "<p>300 rows × 7 columns</p>\n",
       "</div>"
      ],
      "text/plain": [
       "                           Name Rating  \\\n",
       "0        Thor: Love and Thunder   68.0   \n",
       "1      Minions: The Rise of Gru   78.0   \n",
       "2       Jurassic World Dominion   71.0   \n",
       "3             Top Gun: Maverick   83.0   \n",
       "4               The Black Phone   80.0   \n",
       "..                          ...    ...   \n",
       "295     The Wolf of Wall Street   80.0   \n",
       "296                 Tom & Jerry   70.0   \n",
       "297               The Conjuring   75.0   \n",
       "298  Undisputed III: Redemption   76.0   \n",
       "299            Desperate Riders   60.0   \n",
       "\n",
       "                                             Genre Release date Runtime  \\\n",
       "0                       Action, Adventure, Fantasy  07/08/2022   1h 59m   \n",
       "1    Family, Animation, Adventure, Comedy, Fantasy  07/01/2022   1h 27m   \n",
       "2               Adventure, Action, Science Fiction  06/10/2022   2h 27m   \n",
       "3                                    Action, Drama  05/27/2022   2h 11m   \n",
       "4                                 Horror, Thriller  06/24/2022   1h 43m   \n",
       "..                                             ...          ...     ...   \n",
       "295                           Crime, Drama, Comedy  12/25/2013       3h   \n",
       "296                      Comedy, Family, Animation  02/26/2021   1h 41m   \n",
       "297                               Horror, Thriller  08/02/2013   1h 52m   \n",
       "298                               Action, Thriller  05/22/2010   1h 36m   \n",
       "299                                Western, Action  02/25/2022   1h 30m   \n",
       "\n",
       "             Director                                      URL  \n",
       "0       Taika Waititi  https://www.themoviedb.org/movie/616037  \n",
       "1        Matt Fogel,   https://www.themoviedb.org/movie/438148  \n",
       "2     Colin Trevorrow  https://www.themoviedb.org/movie/507086  \n",
       "3     Jack Epps Jr.,   https://www.themoviedb.org/movie/361743  \n",
       "4    Scott Derrickson  https://www.themoviedb.org/movie/756999  \n",
       "..                ...                                      ...  \n",
       "295   Martin Scorsese  https://www.themoviedb.org/movie/106646  \n",
       "296  Joseph Barbera,   https://www.themoviedb.org/movie/587807  \n",
       "297         James Wan  https://www.themoviedb.org/movie/138843  \n",
       "298  Isaac Florentine   https://www.themoviedb.org/movie/38234  \n",
       "299    Michael Feifer  https://www.themoviedb.org/movie/928999  \n",
       "\n",
       "[300 rows x 7 columns]"
      ]
     },
     "execution_count": 27,
     "metadata": {},
     "output_type": "execute_result"
    }
   ],
   "source": [
    "df"
   ]
  },
  {
   "cell_type": "code",
   "execution_count": 30,
   "id": "a8e2d7c2",
   "metadata": {},
   "outputs": [],
   "source": [
    "df.to_excel('Movies Records.xlsx')"
   ]
  },
  {
   "cell_type": "code",
   "execution_count": null,
   "id": "2a118a74",
   "metadata": {},
   "outputs": [],
   "source": []
  },
  {
   "cell_type": "code",
   "execution_count": null,
   "id": "de1783c1",
   "metadata": {},
   "outputs": [],
   "source": []
  }
 ],
 "metadata": {
  "kernelspec": {
   "display_name": "Python 3 (ipykernel)",
   "language": "python",
   "name": "python3"
  },
  "language_info": {
   "codemirror_mode": {
    "name": "ipython",
    "version": 3
   },
   "file_extension": ".py",
   "mimetype": "text/x-python",
   "name": "python",
   "nbconvert_exporter": "python",
   "pygments_lexer": "ipython3",
   "version": "3.11.5"
  }
 },
 "nbformat": 4,
 "nbformat_minor": 5
}
